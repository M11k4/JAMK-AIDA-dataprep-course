{
 "cells": [
  {
   "cell_type": "markdown",
   "source": [
    "# XML-tehtävät"
   ],
   "metadata": {}
  },
  {
   "cell_type": "markdown",
   "source": [
    "Lisää tarvittavat kirjastot (xml ja pandas)."
   ],
   "metadata": {}
  },
  {
   "cell_type": "code",
   "execution_count": 3,
   "source": [
    "# "
   ],
   "outputs": [],
   "metadata": {}
  },
  {
   "cell_type": "markdown",
   "source": [
    "Tallenna alapuolella esitetty xml-rakenne merkkijonona muuttujaan. Lisäksi lataa toiseen muuttujaan sisältö tiedostosta *users_first.xml*."
   ],
   "metadata": {}
  },
  {
   "cell_type": "code",
   "execution_count": 4,
   "source": [
    "# <?xml version='1.0' encoding='UTF-8'?><records><record type='customer'><name>Lawrence Burke</name><phone>(815) 571-8746</phone><email>vulputate.lacus@elitfermentum.net</email><address><streetaddress>P.O. Box 478, 5254 Mi St.</streetaddress><country>Mexico</country><postalZip>22044</postalZip></address></record><record type='employee'><name>Angela Hinton</name><phone>(997) 412-6965</phone><email>elit.dictum@egestas.net</email><address><streetaddress>696-4409 Nunc Rd.</streetaddress><country>Germany</country><postalZip>661217</postalZip></address></record><record type='customer'><name>Whitney Flowers</name><phone>1-573-471-9738</phone><email>consectetuer.adipiscing.elit@ridiculusmus.ca</email><address><streetaddress>6978 Et, Av.</streetaddress><country>Indonesia</country><postalZip>28164</postalZip></address></record><record type='customer'><name>Darius Burt</name><phone>1-675-212-4934</phone><email>sociis.natoque@ut.org</email><address><streetaddress>7705 Ut Street</streetaddress><country>Indonesia</country><postalZip>94783-300</postalZip></address></record><record type='customer'><name>Solomon Blair</name><phone></phone><email>pede.suspendisse.dui@commodoat.edu</email><address><streetaddress>Ap #877-8946 Sociosqu Street</streetaddress><country>Germany</country><postalZip>113513</postalZip></address></record></records>"
   ],
   "outputs": [],
   "metadata": {}
  },
  {
   "cell_type": "code",
   "execution_count": 5,
   "source": [
    "#"
   ],
   "outputs": [],
   "metadata": {}
  },
  {
   "cell_type": "markdown",
   "source": [
    "Muodosta molempien muuttujien sisällöistä listat C1 ja C2, joihin tallennetaan xml-datan sisällöt dictionary-tyyppisinä objekteina. HUOM: record-tasolla esitetyt attribuutit tulee ottaa mukaan objekteihin ja address-tunnisteen alla olevat tunnisteet tulee tuoda ylemmälle tasolle käyttäjän muiden ominaisuuksien kanssa!\r\n",
    "\r\n",
    "Alapuolella on esitetty malli, jossa ensimmäisen objektin rakenne on esitetty:\r\n",
    "\r\n",
    "[{'type': 'customer', 'name': 'Morgan Sykes', 'phone': '1-183-546-6564', 'email': 'lorem.auctor@vulputatemauris.net', 'streetaddress': '2594 Tellus St.', 'country': 'Russian Federation', 'postalZip': '584585'},...]"
   ],
   "metadata": {}
  },
  {
   "cell_type": "code",
   "execution_count": 6,
   "source": [
    "#"
   ],
   "outputs": [],
   "metadata": {}
  },
  {
   "cell_type": "markdown",
   "source": [
    "Muunna molemmat listat dataframeiksi ja yhdistä ne lopuksi yhdeksi dataframeksi (muista resetoida uuden dataframen indeksi!). Tulosta muodostetun dataframen sisältö."
   ],
   "metadata": {}
  },
  {
   "cell_type": "code",
   "execution_count": 7,
   "source": [
    "#"
   ],
   "outputs": [],
   "metadata": {}
  },
  {
   "cell_type": "markdown",
   "source": [
    "Osalla käyttäjistä puuttuu puhelinnumero. Ilmoita näiden käyttäjien lukumäärä."
   ],
   "metadata": {}
  },
  {
   "cell_type": "code",
   "execution_count": 8,
   "source": [
    "#"
   ],
   "outputs": [],
   "metadata": {}
  }
 ],
 "metadata": {
  "kernelspec": {
   "name": "python3",
   "display_name": "Python 3.8.8 64-bit ('base': conda)"
  },
  "language_info": {
   "codemirror_mode": {
    "name": "ipython",
    "version": 3
   },
   "file_extension": ".py",
   "mimetype": "text/x-python",
   "name": "python",
   "nbconvert_exporter": "python",
   "pygments_lexer": "ipython3",
   "version": "3.8.8"
  },
  "interpreter": {
   "hash": "8b50b686190c14b0a5176f7257ee24c43a886d1ffbaa1fefb478a1f90f0f3afb"
  }
 },
 "nbformat": 4,
 "nbformat_minor": 5
}